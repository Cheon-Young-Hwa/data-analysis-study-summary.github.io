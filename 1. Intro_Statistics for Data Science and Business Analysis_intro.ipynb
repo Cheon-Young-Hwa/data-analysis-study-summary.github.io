{
 "cells": [
  {
   "cell_type": "markdown",
   "id": "18cd5c37",
   "metadata": {},
   "source": [
    "# 1. Statistics for Data Science and Business Analysis\n",
    "\n",
    "In this section, I present basic and fundamental concepts and theories I learned and the projects I performed during the course, 'Statistics for Data Science and Business Analysis'.\n",
    "\n",
    "(Tool used: Microsoft Excel)\n",
    "\n",
    "\n",
    "\n",
    "\n",
    "## Subjects covered\n",
    "\n",
    "### Descriptive statistics\n",
    "* Sample and population data\n",
    "* Types of data and levels of measurement\n",
    "* Graphs and tables\n",
    "* Mean, median and mode\n",
    "* Skewness\n",
    "* Variance and standard deviation\n",
    "* Covariance and correlation\n",
    "\n",
    "### Inferential statistics\n",
    "* Normal, standard normal distribution\n",
    "* The Central Limit Theorem\n",
    "* Confidence intervals and margin of error\n",
    "* Student's T distribution\n",
    "\n",
    "### Hypothesis testing\n",
    "* Null and alternavtive hypothesis\n",
    "* Rejection region and significance level\n",
    "* Type I error vs. Type II error\n",
    "* P-value\n",
    "\n",
    "### Regression Analysis\n",
    "* R-squared and adjusted R-squared\n",
    "* The ordinary lest squares (OLS)\n",
    "* Multiple linear regression\n",
    "* F-stastic\n",
    "* OLS assumtions: linearity / No endogeneity / Normality and homoscedasticity / No autocorrelation / No multicollinearity\n",
    "* Dummy variables\n",
    "\n",
    "\n",
    "\n",
    "\n",
    "\n",
    "## Projected perfomed\n",
    "The projects and exercies are saved to the folder called \"1. statistics projects\"\n",
    "\n",
    "\n",
    "\n",
    "## Courese and materials\n",
    "Statistics for Data Science and Business Analysis on Udemy\n",
    "\n"
   ]
  }
 ],
 "metadata": {
  "kernelspec": {
   "display_name": "Python 3 (ipykernel)",
   "language": "python",
   "name": "python3"
  },
  "language_info": {
   "codemirror_mode": {
    "name": "ipython",
    "version": 3
   },
   "file_extension": ".py",
   "mimetype": "text/x-python",
   "name": "python",
   "nbconvert_exporter": "python",
   "pygments_lexer": "ipython3",
   "version": "3.9.12"
  }
 },
 "nbformat": 4,
 "nbformat_minor": 5
}
