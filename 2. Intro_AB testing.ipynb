{
 "cells": [
  {
   "cell_type": "markdown",
   "id": "33b2ddc6",
   "metadata": {},
   "source": [
    "# 2. A/B Testing\n",
    "\n",
    "In this section, I demonstrate how to define and start A/B tests and analyse the results of it. As preprocessing, identifying major metrics and defining them are required. Building hypothesis - null and alternative comes before analysing the results to measure and determine the success of tests. \n",
    "\n",
    "To practice skills and appy knowlege, I carried out a small project using a fictional digital product, Kittengram - a social network platform for posting pictures of cats. The aim of the project is to test if a new feature on the app increases uder actitivity and click-through-rate (CTR). I did exploratory analysis, calculating sample size and t-test with Python code. These process breaks down to 3 parts saved to different files as listed below. \n",
    "\n",
    "Tool used: Python\n",
    "Library: Numpy, Pandas, Altair, Scipy\n",
    "\n",
    "\n",
    "## Subjects covered\n",
    "* Characteristics of A/B testing\n",
    "* Data intrastructue and tracking\n",
    "* Define and calculate metrics and KPIs\n",
    "* Set up A/B test\n",
    "* Statistical significance\n",
    "* Calculating the sample size\n",
    "* Analyse and interpret the results\n",
    "* Present the results\n",
    "\n",
    "\n",
    "## Projects performed\n",
    "\n",
    "* proj-2.1 example1.ipynb\n",
    "* proj-2.2 example2.ipynb\n",
    "* proj-2.3 example3.ipynb\n",
    "\n",
    "\n",
    "## Course and matrials\n",
    "A/B Testing in Python on Udemy\n",
    "\n",
    "\n"
   ]
  }
 ],
 "metadata": {
  "kernelspec": {
   "display_name": "Python 3 (ipykernel)",
   "language": "python",
   "name": "python3"
  },
  "language_info": {
   "codemirror_mode": {
    "name": "ipython",
    "version": 3
   },
   "file_extension": ".py",
   "mimetype": "text/x-python",
   "name": "python",
   "nbconvert_exporter": "python",
   "pygments_lexer": "ipython3",
   "version": "3.9.12"
  }
 },
 "nbformat": 4,
 "nbformat_minor": 5
}
