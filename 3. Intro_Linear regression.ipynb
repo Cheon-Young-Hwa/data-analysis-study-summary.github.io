{
 "cells": [
  {
   "cell_type": "markdown",
   "id": "a23ab936",
   "metadata": {},
   "source": [
    "# 3. Linear Regression Analysis\n",
    "\n",
    "This secession explores one of the fundamental machine learning topics, linear regerssion, from preprocessing (cleaning and transforming, scaling data), to plotting regression to making predictions and comparing to testing. I practiced this whole process through 3 different projects during a machine learning model course I took.  \n",
    "\n",
    "\n",
    "* Programming language: Python\n",
    "* Libraries: Numpy, Pands, Matplotlib, Seaborn, Statsmodels, SKlearn\n",
    "\n",
    "\n",
    "## Subjects covered\n",
    "* Regression model with Statsmodels\n",
    "* SST, SSR, SSE\n",
    "* The Ordinary Least Squares (OLS) and its five assumptions\n",
    "* R-squared and adjusted R-squared\n",
    "* F-Statistic and F-test\n",
    "* Linear regression with SKlearn\n",
    "* Multiple linear regression\n",
    "* Making predictions\n",
    "* Feature selection through p-values\n",
    "* Feature scaling\n",
    "* Underfitting and overfitting\n",
    "* Training and testing\n",
    "\n",
    " \n",
    "## Projects performed\n",
    "\n",
    "* proj-3.1 SAT, GPA and Random number\n",
    "* proj-3.2 Real-estate: price, year and size\n",
    "* proj-3.3 Second-hand cars: prices and multiple variables\n",
    "\n",
    "\n",
    "\n",
    "## Course and matrials\n",
    "Machine Learning 101 with Scikit-learn and StatsModels on Udemy\n",
    "\n",
    "\n"
   ]
  }
 ],
 "metadata": {
  "kernelspec": {
   "display_name": "Python 3 (ipykernel)",
   "language": "python",
   "name": "python3"
  },
  "language_info": {
   "codemirror_mode": {
    "name": "ipython",
    "version": 3
   },
   "file_extension": ".py",
   "mimetype": "text/x-python",
   "name": "python",
   "nbconvert_exporter": "python",
   "pygments_lexer": "ipython3",
   "version": "3.9.12"
  }
 },
 "nbformat": 4,
 "nbformat_minor": 5
}
