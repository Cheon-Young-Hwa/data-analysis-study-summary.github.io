{
 "cells": [
  {
   "cell_type": "markdown",
   "id": "a23ab936",
   "metadata": {},
   "source": [
    "# 6. Data Visualisation\n",
    "\n",
    "\n",
    "* Tool used: Tableau\n",
    "\n",
    "\n",
    "## Subjects covered\n",
    "* Line and bar charts\n",
    "* Scatter plots\n",
    "* Filtters\n",
    "* Viz animation\n",
    "* Dashboards and highlighers\n",
    "* Build stories\n",
    "* Maps\n",
    "* Build hieararchy and groups\n",
    "* Arear and pie charts\n",
    "* Histograms, heat maps and cross tabs\n",
    "* Combined axis charts and dual axis charts\n",
    "* Instant analytics: constant and average lines\n",
    "* Box plots\n",
    "* Create quick table calculations\n",
    "* Gantt bar charts\n",
    "* Create data calculations\n",
    "* Best practices for visualisation\n",
    "* Join tables from data sources\n",
    "* Parameters\n",
    "* Caculate percentage of running total-reminder\n",
    "* Fixed LODs\n",
    "* Data connections: join clauses and union\n",
    "* Pull data from relational databases with SQL queries\n",
    "* Create data extracts\n",
    "* Create data flows\n",
    "\n",
    "\n",
    " \n",
    "## Projects performed
    In this section, there is no folder for project files. Click the links below to see projects.\n",
    "\n", 
    "* proj-6.1 Daschboard 1: https://public.tableau.com/app/profile/angela4965/viz/EndofLevel2_16394753723640/ByYear\n",
    "\n",
    "* proj-6.2 Dashboard 2: https://public.tableau.com/app/profile/angela4965/viz/sql_task_4/Dashboard1\n",
    "\n",
    "* proj_6.3 Dashboard 3: https://public.tableau.com/app/profile/angela4965/viz/Dashboardpratices/Story1\n",
    "\n",
    "* proj-6.4 Dashboard 4: https://public.tableau.com/app/profile/angela4965/viz/Housemarket1995-2016/Housemarket1995-2016\n",
    "\n",
    "* proj-6.5 Dashboard 5: https://public.tableau.com/app/profile/angela4965/viz/Happyscore_16381658227100/Dashboard1\n",
    "\n",
    "* proj-6.6 Various charts 1: https://public.tableau.com/app/profile/angela4965/viz/Mappractices/Sheet19\n",
    "\n",
    "* proj-6.7 Various charts: https://public.tableau.com/app/profile/angela4965/viz/Workbook5_16393847461610/Formatting\n",
    "\n",
    "* proj-6.8 Calculation table: https://public.tableau.com/app/profile/angela4965/viz/Calculationexercises/Sheet5\n",
    "\n",
    "* proj-6.9 Fixed-LOD: https://public.tableau.com/app/profile/angela4965/viz/LOD_fixedLODpractices/Sheet35\n",
    "\n",
    "\n",
    "## Course and matrials\n",
    "Tableau Data Analyst/Specialist Desktop Certification on Udemy\n",
    "\n",
    "\n"
   ]
  }
 ],
 "metadata": {
  "kernelspec": {
   "display_name": "Python 3 (ipykernel)",
   "language": "python",
   "name": "python3"
  },
  "language_info": {
   "codemirror_mode": {
    "name": "ipython",
    "version": 3
   },
   "file_extension": ".py",
   "mimetype": "text/x-python",
   "name": "python",
   "nbconvert_exporter": "python",
   "pygments_lexer": "ipython3",
   "version": "3.9.12"
  }
 },
 "nbformat": 4,
 "nbformat_minor": 5
}
