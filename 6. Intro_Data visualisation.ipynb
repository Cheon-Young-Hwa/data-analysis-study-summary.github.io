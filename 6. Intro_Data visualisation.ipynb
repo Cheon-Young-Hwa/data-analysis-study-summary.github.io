{
 "cells": [
  {
   "cell_type": "markdown",
   "id": "a23ab936",
   "metadata": {},
   "source": [
    "# 6. Data Visualisation\n",
    "\n",
    "Cluster analysis is a technique for grouping obervations based on features. In the business context, the method can be applied to identify customer or user groups with their needs or behaviours so that marketing is aimed at proper target customers or users. For the project of market segmentation, I utilised this method to create customer setmentations and had chance to think about developing possible marketing strategy.\n",
    "\n",
    "Throughout the projects, I deepend underderstanding of the basic concepts and knowlege of cluser analysis and learned a practical approach of using it.\n",
    "\n",
    "* Tool used: Tableau\n",
    "\n",
    "\n",
    "## Subjects covered\n",
    "* Line and bar charts\n",
    "* \n",
    "\n",
    " \n",
    "## Projects performed\n",
    "\n",
    "* proj-4.1 SAT and admission\n",
    "* proj-4.2 bank-data and mutiple variables\n",
    "* proj-4.3 bank-data and subsriptions-testing\n",
    "\n",
    "\n",
    "\n",
    "## Course and matrials\n",
    "Tableau Data Analyst/Specialist Desktop Certification on Udemy\n",
    "\n",
    "\n"
   ]
  }
 ],
 "metadata": {
  "kernelspec": {
   "display_name": "Python 3 (ipykernel)",
   "language": "python",
   "name": "python3"
  },
  "language_info": {
   "codemirror_mode": {
    "name": "ipython",
    "version": 3
   },
   "file_extension": ".py",
   "mimetype": "text/x-python",
   "name": "python",
   "nbconvert_exporter": "python",
   "pygments_lexer": "ipython3",
   "version": "3.9.12"
  }
 },
 "nbformat": 4,
 "nbformat_minor": 5
}
