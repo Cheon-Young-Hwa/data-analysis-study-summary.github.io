{
 "cells": [
  {
   "attachments": {},
   "cell_type": "markdown",
   "id": "a23ab936",
   "metadata": {},
   "source": [
    "# 4. Logistic Regression Analysis\n",
    "\n",
    "Logistic regression allows us to analyse datat and make predictions with outcomes that are not numerical but categorical. This machine-learning course introduces how to interpret the model summary by understanding concepts like coefficients, intercepts, pseudo R-squared, and p-value. To calculate accuracy of the model predictions, confusion matrix is created.\n",
    "\n",
    "* Programming language: Python\n",
    "* Libraries: Numpy, Pands, Matplotlib, Seaborn, Statsmodels, SKlearn\n",
    "\n",
    "\n",
    "## Subjects covered\n",
    "* Regression model with Statsmodels\n",
    "* SST, SSR, SSE\n",
    "* The Ordinary Least Squares (OLS) and its five assumptions\n",
    "* R-squared and adjusted R-squared\n",
    "* F-Statistic and F-test\n",
    "* Linear regression with SKlearn\n",
    "* Multiple linear regression\n",
    "* Making predictions\n",
    "* Feature selection through p-values\n",
    "* Feature scaling\n",
    "* Underfitting and overfitting\n",
    "* Training and testing\n",
    "\n",
    " \n",
    "## Projects performed\n",
    "\n",
    "* proj-4.1 SAT and admission\n",
    "* proj-4.2 bank-data and mutiple variables\n",
    "* proj-4.3 bank-data and subsriptions-testing\n",
    "\n",
    "\n",
    "\n",
    "## Course and matrials\n",
    "Machine Learning 101 with Scikit-learn and StatsModels on Udemy\n",
    "\n",
    "\n"
   ]
  }
 ],
 "metadata": {
  "kernelspec": {
   "display_name": "Python 3 (ipykernel)",
   "language": "python",
   "name": "python3"
  },
  "language_info": {
   "codemirror_mode": {
    "name": "ipython",
    "version": 3
   },
   "file_extension": ".py",
   "mimetype": "text/x-python",
   "name": "python",
   "nbconvert_exporter": "python",
   "pygments_lexer": "ipython3",
   "version": "3.9.12"
  }
 },
 "nbformat": 4,
 "nbformat_minor": 5
}
